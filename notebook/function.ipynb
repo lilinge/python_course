{
 "cells": [
  {
   "cell_type": "code",
   "execution_count": 5,
   "metadata": {},
   "outputs": [],
   "source": [
    "# F=9/5C+32,把摄氏度转化成华氏温度\n",
    "def F(C):   #这两行用于定义一个函数，函数名最好起的能一眼看出该函数用途\n",
    "    return (9.0/5)*C+32 #函数可以不return，但return后必须返回一个值"
   ]
  },
  {
   "cell_type": "code",
   "execution_count": 6,
   "metadata": {},
   "outputs": [
    {
     "name": "stdout",
     "output_type": "stream",
     "text": [
      "51.8\n",
      "118.0\n"
     ]
    }
   ],
   "source": [
    "a=10\n",
    "F1=F(a)\n",
    "temp=F(15.5)\n",
    "print (F(a+1))\n",
    "sum_temp=F(10)+F(20)\n",
    "print (sum_temp)"
   ]
  },
  {
   "cell_type": "code",
   "execution_count": 8,
   "metadata": {},
   "outputs": [
    {
     "name": "stdout",
     "output_type": "stream",
     "text": [
      "20\n"
     ]
    }
   ],
   "source": [
    "a=20              #global variables，全局变量，是不变的\n",
    "b=-2.5\n",
    "\n",
    "def f1(x):        \n",
    "    a=21         #this is a new local variable\n",
    "    return a*x+b #21*x-2.5\n",
    "\n",
    "print (a)        #yields 20"
   ]
  },
  {
   "cell_type": "code",
   "execution_count": 9,
   "metadata": {},
   "outputs": [
    {
     "name": "stdout",
     "output_type": "stream",
     "text": [
      "20\n",
      "21\n"
     ]
    }
   ],
   "source": [
    "def f2(x):\n",
    "    global a\n",
    "    a=21         #the global a is changed，全局变量已经改变\n",
    "    return a*x+b  #21*x-2.5\n",
    "\n",
    "f1(3)\n",
    "print (a)        #20 is printed\n",
    "f2(3)\n",
    "print (a)        #21 is printed"
   ]
  },
  {
   "cell_type": "code",
   "execution_count": null,
   "metadata": {},
   "outputs": [],
   "source": [
    "def ytunc(t,v0):  #调用多参数函数时，尽量把参数名称都写上，免得顺序出错。\n",
    "    g=9.81\n",
    "    return v0*t-0.5*g*t**2\n",
    "\n",
    "y=yfunc(0.1,6)\n",
    "y=yfunc(t=0.1,v0=6)\n",
    "y=yfunc(v0=6,t=0.1)"
   ]
  },
  {
   "cell_type": "code",
   "execution_count": 10,
   "metadata": {},
   "outputs": [
    {
     "name": "stdout",
     "output_type": "stream",
     "text": [
      "[0, 0.2, 0.4, 0.6000000000000001, 0.8, 1.0, 1.2, 1.4, 1.5999999999999999, 1.7999999999999998, 1.9999999999999998, 2.1999999999999997, 2.4, 2.6, 2.8000000000000003, 3.0000000000000004, 3.2000000000000006, 3.400000000000001, 3.600000000000001, 3.800000000000001, 4.000000000000001, 4.200000000000001, 4.400000000000001, 4.600000000000001, 4.800000000000002, 5.000000000000002, 5.200000000000002, 5.400000000000002, 5.600000000000002, 5.8000000000000025, 6.000000000000003, 6.200000000000003, 6.400000000000003, 6.600000000000003, 6.800000000000003, 7.0000000000000036, 7.200000000000004, 7.400000000000004, 7.600000000000004, 7.800000000000004, 8.000000000000004, 8.200000000000003, 8.400000000000002, 8.600000000000001, 8.8, 9.0, 9.2, 9.399999999999999, 9.599999999999998, 9.799999999999997, 9.999999999999996, 10.199999999999996, 10.399999999999995, 10.599999999999994, 10.799999999999994, 10.999999999999993, 11.199999999999992, 11.399999999999991, 11.59999999999999, 11.79999999999999, 11.99999999999999, 12.199999999999989, 12.399999999999988, 12.599999999999987, 12.799999999999986, 12.999999999999986, 13.199999999999985, 13.399999999999984, 13.599999999999984, 13.799999999999983, 13.999999999999982, 14.199999999999982, 14.39999999999998, 14.59999999999998, 14.79999999999998, 14.999999999999979, 15.199999999999978, 15.399999999999977, 15.599999999999977, 15.799999999999976, 15.999999999999975, 16.199999999999974, 16.399999999999974, 16.599999999999973, 16.799999999999972, 16.99999999999997, 17.19999999999997, 17.39999999999997, 17.59999999999997, 17.79999999999997, 17.999999999999968, 18.199999999999967, 18.399999999999967, 18.599999999999966, 18.799999999999965, 18.999999999999964, 19.199999999999964, 19.399999999999963, 19.599999999999962, 19.79999999999996, 19.99999999999996, 20.19999999999996, 20.39999999999996, 20.59999999999996, 20.799999999999958, 20.999999999999957, 21.199999999999957, 21.399999999999956, 21.599999999999955, 21.799999999999955, 21.999999999999954, 22.199999999999953, 22.399999999999952, 22.59999999999995, 22.79999999999995, 22.99999999999995, 23.19999999999995, 23.39999999999995, 23.599999999999948, 23.799999999999947, 23.999999999999947, 24.199999999999946, 24.399999999999945, 24.599999999999945, 24.799999999999944, 24.999999999999943, 25.199999999999942, 25.39999999999994, 25.59999999999994, 25.79999999999994, 25.99999999999994, 26.19999999999994, 26.399999999999938, 26.599999999999937, 26.799999999999937, 26.999999999999936, 27.199999999999935, 27.399999999999935, 27.599999999999934, 27.799999999999933, 27.999999999999932, 28.199999999999932, 28.39999999999993, 28.59999999999993, 28.79999999999993, 28.99999999999993, 29.19999999999993, 29.399999999999928, 29.599999999999927, 29.799999999999926, 29.999999999999925, 30.199999999999925, 30.399999999999924, 30.599999999999923, 30.799999999999923, 30.999999999999922, 31.19999999999992, 31.39999999999992, 31.59999999999992, 31.79999999999992, 31.99999999999992, 32.19999999999992, 32.39999999999992, 32.59999999999992, 32.799999999999926, 32.99999999999993, 33.19999999999993, 33.399999999999935, 33.59999999999994, 33.79999999999994, 33.99999999999994, 34.199999999999946, 34.39999999999995, 34.59999999999995, 34.799999999999955, 34.99999999999996, 35.19999999999996, 35.39999999999996, 35.599999999999966, 35.79999999999997, 35.99999999999997, 36.199999999999974, 36.39999999999998, 36.59999999999998, 36.79999999999998, 36.999999999999986, 37.19999999999999, 37.39999999999999, 37.599999999999994, 37.8, 38.0, 38.2, 38.400000000000006, 38.60000000000001, 38.80000000000001, 39.000000000000014, 39.20000000000002, 39.40000000000002, 39.60000000000002, 39.800000000000026, 40.00000000000003, 40.20000000000003, 40.400000000000034, 40.60000000000004, 40.80000000000004, 41.00000000000004, 41.200000000000045, 41.40000000000005, 41.60000000000005, 41.800000000000054, 42.00000000000006, 42.20000000000006, 42.40000000000006, 42.600000000000065, 42.80000000000007, 43.00000000000007, 43.200000000000074, 43.40000000000008, 43.60000000000008, 43.80000000000008, 44.000000000000085, 44.20000000000009, 44.40000000000009, 44.600000000000094, 44.8000000000001, 45.0000000000001, 45.2000000000001, 45.400000000000105, 45.60000000000011, 45.80000000000011, 46.000000000000114, 46.20000000000012, 46.40000000000012, 46.60000000000012, 46.800000000000125, 47.00000000000013, 47.20000000000013, 47.400000000000134, 47.600000000000136, 47.80000000000014, 48.00000000000014, 48.200000000000145, 48.40000000000015, 48.60000000000015, 48.80000000000015, 49.000000000000156, 49.20000000000016, 49.40000000000016, 49.600000000000165, 49.80000000000017, 50.00000000000017, 50.20000000000017, 50.400000000000176, 50.60000000000018, 50.80000000000018, 51.000000000000185, 51.20000000000019, 51.40000000000019, 51.60000000000019, 51.800000000000196, 52.0000000000002, 52.2000000000002, 52.400000000000205, 52.60000000000021, 52.80000000000021, 53.00000000000021, 53.200000000000216, 53.40000000000022, 53.60000000000022, 53.800000000000225, 54.00000000000023, 54.20000000000023, 54.40000000000023, 54.600000000000236, 54.80000000000024, 55.00000000000024, 55.200000000000244, 55.40000000000025, 55.60000000000025, 55.80000000000025, 56.000000000000256, 56.20000000000026, 56.40000000000026, 56.600000000000264, 56.80000000000027, 57.00000000000027, 57.20000000000027, 57.400000000000276, 57.60000000000028, 57.80000000000028, 58.000000000000284, 58.20000000000029, 58.40000000000029, 58.60000000000029, 58.800000000000296, 59.0000000000003, 59.2000000000003, 59.400000000000304, 59.60000000000031, 59.80000000000031, 60.00000000000031, 60.200000000000315, 60.40000000000032, 60.60000000000032, 60.800000000000324, 61.00000000000033, 61.20000000000033, 61.40000000000033, 61.600000000000335, 61.80000000000034, 62.00000000000034, 62.200000000000344, 62.40000000000035, 62.60000000000035, 62.80000000000035, 63.000000000000355, 63.20000000000036, 63.40000000000036, 63.600000000000364, 63.80000000000037, 64.00000000000037, 64.20000000000037, 64.40000000000038, 64.60000000000038, 64.80000000000038, 65.00000000000038, 65.20000000000039, 65.40000000000039, 65.60000000000039, 65.8000000000004, 66.0000000000004, 66.2000000000004, 66.4000000000004, 66.6000000000004, 66.80000000000041, 67.00000000000041, 67.20000000000041, 67.40000000000042, 67.60000000000042, 67.80000000000042, 68.00000000000043, 68.20000000000043, 68.40000000000043, 68.60000000000043, 68.80000000000044, 69.00000000000044, 69.20000000000044, 69.40000000000045, 69.60000000000045, 69.80000000000045, 70.00000000000045, 70.20000000000046, 70.40000000000046, 70.60000000000046, 70.80000000000047, 71.00000000000047, 71.20000000000047, 71.40000000000047, 71.60000000000048, 71.80000000000048, 72.00000000000048, 72.20000000000049, 72.40000000000049, 72.60000000000049, 72.8000000000005, 73.0000000000005, 73.2000000000005, 73.4000000000005, 73.6000000000005, 73.80000000000051, 74.00000000000051, 74.20000000000051, 74.40000000000052, 74.60000000000052, 74.80000000000052, 75.00000000000053, 75.20000000000053, 75.40000000000053, 75.60000000000053, 75.80000000000054, 76.00000000000054, 76.20000000000054, 76.40000000000055, 76.60000000000055, 76.80000000000055, 77.00000000000055, 77.20000000000056, 77.40000000000056, 77.60000000000056, 77.80000000000057, 78.00000000000057, 78.20000000000057, 78.40000000000057, 78.60000000000058, 78.80000000000058, 79.00000000000058, 79.20000000000059, 79.40000000000059, 79.60000000000059, 79.8000000000006, 80.0000000000006, 80.2000000000006, 80.4000000000006, 80.6000000000006, 80.80000000000061, 81.00000000000061, 81.20000000000061, 81.40000000000062, 81.60000000000062, 81.80000000000062, 82.00000000000063, 82.20000000000063, 82.40000000000063, 82.60000000000063, 82.80000000000064, 83.00000000000064, 83.20000000000064, 83.40000000000065, 83.60000000000065, 83.80000000000065, 84.00000000000065, 84.20000000000066, 84.40000000000066, 84.60000000000066, 84.80000000000067, 85.00000000000067, 85.20000000000067, 85.40000000000067, 85.60000000000068, 85.80000000000068, 86.00000000000068, 86.20000000000068, 86.40000000000069, 86.60000000000069, 86.8000000000007, 87.0000000000007, 87.2000000000007, 87.4000000000007, 87.6000000000007, 87.80000000000071, 88.00000000000071, 88.20000000000071, 88.40000000000072, 88.60000000000072, 88.80000000000072, 89.00000000000072, 89.20000000000073, 89.40000000000073, 89.60000000000073, 89.80000000000074, 90.00000000000074, 90.20000000000074, 90.40000000000074, 90.60000000000075, 90.80000000000075, 91.00000000000075, 91.20000000000076, 91.40000000000076, 91.60000000000076, 91.80000000000076, 92.00000000000077, 92.20000000000077, 92.40000000000077, 92.60000000000078, 92.80000000000078, 93.00000000000078, 93.20000000000078, 93.40000000000079, 93.60000000000079, 93.8000000000008, 94.0000000000008, 94.2000000000008, 94.4000000000008, 94.6000000000008, 94.80000000000081, 95.00000000000081, 95.20000000000081, 95.40000000000082, 95.60000000000082, 95.80000000000082, 96.00000000000082, 96.20000000000083, 96.40000000000083, 96.60000000000083, 96.80000000000084, 97.00000000000084, 97.20000000000084, 97.40000000000084, 97.60000000000085, 97.80000000000085, 98.00000000000085, 98.20000000000086, 98.40000000000086, 98.60000000000086, 98.80000000000086, 99.00000000000087, 99.20000000000087, 99.40000000000087, 99.60000000000088, 99.80000000000088]\n"
     ]
    }
   ],
   "source": [
    "def makelist(start,stop,inc):  #makelist函数和range函数功能类似，只是range函数只能取整数。\n",
    "    value=start\n",
    "    result=[]\n",
    "    while value<=stop:\n",
    "        result.append(value)\n",
    "        value=value+inc\n",
    "    return result\n",
    "\n",
    "mylist= makelist(0,100,0.2)\n",
    "print (mylist)"
   ]
  },
  {
   "cell_type": "code",
   "execution_count": 20,
   "metadata": {},
   "outputs": [],
   "source": [
    "def yfunc(t,v0):  #函数可以不止输出一个值，也可以输出多个值\n",
    "    g=9.81\n",
    "    y=v0*t-0.5*g*t**2\n",
    "    dydt=v0-g*t\n",
    "    return y,dydt #return的数目和定义的position/velocity变量的个数应该一致"
   ]
  },
  {
   "cell_type": "code",
   "execution_count": 23,
   "metadata": {},
   "outputs": [
    {
     "name": "stdout",
     "output_type": "stream",
     "text": [
      "(0.034199999999999786, -2.886)\n",
      "0.034199999999999786 -2.886\n"
     ]
    }
   ],
   "source": [
    "position=yfunc(0.6,3)\n",
    "print (position)\n",
    "position,velocity=yfunc(0.6,3)\n",
    "print (position,velocity)"
   ]
  },
  {
   "cell_type": "code",
   "execution_count": 31,
   "metadata": {},
   "outputs": [],
   "source": [
    "def L2(x,epsilon=1.0E-6):    #函数\n",
    "    x=float(x)              #浮点数\n",
    "    i=1\n",
    "    term=(1.0/i)*(x/(1+x))**i\n",
    "    s=term\n",
    "    while abs(term)>epsilon:     #abs(x) 为取x的绝对值，截断误差大于epsilon时运行\n",
    "        i+=1                     #运行次数\n",
    "        term=(1.0/i)*(x/(1+x))**i\n",
    "        s+=term                  #总和\n",
    "    return s,i"
   ]
  },
  {
   "cell_type": "code",
   "execution_count": 32,
   "metadata": {},
   "outputs": [
    {
     "name": "stdout",
     "output_type": "stream",
     "text": [
      "epsilon: 1e-04,exact error: 8.18e-04, n=55\n",
      "epsilon: 1e-06,exact error: 9.02e-06, n=97\n",
      "epsilon: 1e-08,exact error: 8.70e-08, n=142\n",
      "epsilon: 1e-10,exact error: 9.20e-10, n=187\n",
      "epsilon: 1e-12,exact error: 9.31e-12, n=233\n"
     ]
    }
   ],
   "source": [
    "from math import log         #主程序，评估这个函数，要求的精度越高，要求的循环圈数n越大。\n",
    "x=10\n",
    "for k in range(4,14,2):\n",
    "    epsilon=10**(-k)\n",
    "    approx,n=L2(x,epsilon=epsilon)  #n为循环圈数，approx为近似值\n",
    "    exact=log(1+x)                  #exact为准确值\n",
    "    exact_error=exact-approx        #求误差\n",
    "    print ('epsilon: %5.0e,exact error: %8.2e, n=%d' % (epsilon,exact_error,n))"
   ]
  },
  {
   "cell_type": "code",
   "execution_count": 38,
   "metadata": {},
   "outputs": [
    {
     "name": "stdout",
     "output_type": "stream",
     "text": [
      "epsilon: 1e-04,exact error: 8.18e-04, n=55\n",
      "epsilon: 1e-06,exact error: 9.02e-06, n=97\n",
      "epsilon: 1e-08,exact error: 8.70e-08, n=142\n",
      "epsilon: 1e-10,exact error: 9.20e-10, n=187\n",
      "epsilon: 1e-12,exact error: 9.31e-12, n=233\n"
     ]
    }
   ],
   "source": [
    "from math import log         #主程序\n",
    "x=10\n",
    "for k in range(4,14,2):\n",
    "    epsilon=10**(-k)\n",
    "    approx,n=L2(x,epsilon=epsilon)\n",
    "    exact=log(1+x)\n",
    "    exact_error=exact-approx\n",
    "    print ('epsilon: %5.0e,exact error: %8.2e, n=%d' % \\   #  \\  为换行符\n",
    "           (epsilon,exact_error,n))"
   ]
  },
  {
   "cell_type": "code",
   "execution_count": 41,
   "metadata": {},
   "outputs": [
    {
     "name": "stdout",
     "output_type": "stream",
     "text": [
      "0.1111111111111111\n"
     ]
    }
   ],
   "source": [
    "print (1/9)"
   ]
  },
  {
   "cell_type": "code",
   "execution_count": 51,
   "metadata": {},
   "outputs": [],
   "source": [
    "def area(vertices):\n",
    "    x1=vertices[0][0]\n",
    "    x2=vertices[1][0]\n",
    "    x3=vertices[2][0]\n",
    "    y1=vertices[0][1]\n",
    "    y2=vertices[1][1]\n",
    "    y3=vertices[2][1]\n",
    "    return 1/2*(x2*y3-x3*y2-x1*y3+x3*y1+x1*y2-x2*y1)   "
   ]
  },
  {
   "cell_type": "code",
   "execution_count": 52,
   "metadata": {},
   "outputs": [
    {
     "name": "stdout",
     "output_type": "stream",
     "text": [
      "1.0\n"
     ]
    }
   ],
   "source": [
    "vertices=[[0,0],[1,0],[0,2]]\n",
    "A=area(vertices)                 #调用上面定义的函数\n",
    "print (A)"
   ]
  },
  {
   "cell_type": "code",
   "execution_count": 54,
   "metadata": {},
   "outputs": [
    {
     "ename": "UnboundLocalError",
     "evalue": "local variable 'x1' referenced before assignment",
     "output_type": "error",
     "traceback": [
      "\u001b[0;31m---------------------------------------------------------------------------\u001b[0m",
      "\u001b[0;31mUnboundLocalError\u001b[0m                         Traceback (most recent call last)",
      "\u001b[0;32m<ipython-input-54-6545582bb64e>\u001b[0m in \u001b[0;36m<module>\u001b[0;34m()\u001b[0m\n\u001b[1;32m     10\u001b[0m \u001b[0;34m\u001b[0m\u001b[0m\n\u001b[1;32m     11\u001b[0m \u001b[0mvertices\u001b[0m\u001b[0;34m=\u001b[0m\u001b[0;34m[\u001b[0m\u001b[0;34m[\u001b[0m\u001b[0;36m0\u001b[0m\u001b[0;34m,\u001b[0m\u001b[0;36m0\u001b[0m\u001b[0;34m]\u001b[0m\u001b[0;34m,\u001b[0m\u001b[0;34m[\u001b[0m\u001b[0;36m1\u001b[0m\u001b[0;34m,\u001b[0m\u001b[0;36m0\u001b[0m\u001b[0;34m]\u001b[0m\u001b[0;34m,\u001b[0m\u001b[0;34m[\u001b[0m\u001b[0;36m0\u001b[0m\u001b[0;34m,\u001b[0m\u001b[0;36m2\u001b[0m\u001b[0;34m]\u001b[0m\u001b[0;34m]\u001b[0m\u001b[0;34m\u001b[0m\u001b[0m\n\u001b[0;32m---> 12\u001b[0;31m \u001b[0mA\u001b[0m\u001b[0;34m=\u001b[0m\u001b[0marea\u001b[0m\u001b[0;34m(\u001b[0m\u001b[0mvertices\u001b[0m\u001b[0;34m)\u001b[0m\u001b[0;34m\u001b[0m\u001b[0m\n\u001b[0m\u001b[1;32m     13\u001b[0m \u001b[0mprint\u001b[0m \u001b[0;34m(\u001b[0m\u001b[0mA\u001b[0m\u001b[0;34m)\u001b[0m\u001b[0;34m\u001b[0m\u001b[0m\n",
      "\u001b[0;32m<ipython-input-54-6545582bb64e>\u001b[0m in \u001b[0;36marea\u001b[0;34m(vertices)\u001b[0m\n\u001b[1;32m      1\u001b[0m \u001b[0;32mdef\u001b[0m \u001b[0marea\u001b[0m\u001b[0;34m(\u001b[0m\u001b[0mvertices\u001b[0m\u001b[0;34m)\u001b[0m\u001b[0;34m:\u001b[0m\u001b[0;34m\u001b[0m\u001b[0m\n\u001b[0;32m----> 2\u001b[0;31m     \u001b[0mvertices\u001b[0m\u001b[0;34m=\u001b[0m\u001b[0;34m[\u001b[0m\u001b[0;34m[\u001b[0m\u001b[0mx1\u001b[0m\u001b[0;34m,\u001b[0m\u001b[0my1\u001b[0m\u001b[0;34m]\u001b[0m\u001b[0;34m,\u001b[0m\u001b[0;34m[\u001b[0m\u001b[0mx2\u001b[0m\u001b[0;34m,\u001b[0m\u001b[0my2\u001b[0m\u001b[0;34m]\u001b[0m\u001b[0;34m,\u001b[0m\u001b[0;34m[\u001b[0m\u001b[0mx3\u001b[0m\u001b[0;34m,\u001b[0m\u001b[0my3\u001b[0m\u001b[0;34m]\u001b[0m\u001b[0;34m]\u001b[0m   \u001b[0;31m#重复定义vertices，要把这一行删掉\u001b[0m\u001b[0;34m\u001b[0m\u001b[0m\n\u001b[0m\u001b[1;32m      3\u001b[0m     \u001b[0mx1\u001b[0m\u001b[0;34m=\u001b[0m\u001b[0mvertices\u001b[0m\u001b[0;34m[\u001b[0m\u001b[0;36m0\u001b[0m\u001b[0;34m]\u001b[0m\u001b[0;34m[\u001b[0m\u001b[0;36m0\u001b[0m\u001b[0;34m]\u001b[0m\u001b[0;34m\u001b[0m\u001b[0m\n\u001b[1;32m      4\u001b[0m     \u001b[0mx2\u001b[0m\u001b[0;34m=\u001b[0m\u001b[0mvertices\u001b[0m\u001b[0;34m[\u001b[0m\u001b[0;36m1\u001b[0m\u001b[0;34m]\u001b[0m\u001b[0;34m[\u001b[0m\u001b[0;36m0\u001b[0m\u001b[0;34m]\u001b[0m\u001b[0;34m\u001b[0m\u001b[0m\n\u001b[1;32m      5\u001b[0m     \u001b[0mx3\u001b[0m\u001b[0;34m=\u001b[0m\u001b[0mvertices\u001b[0m\u001b[0;34m[\u001b[0m\u001b[0;36m2\u001b[0m\u001b[0;34m]\u001b[0m\u001b[0;34m[\u001b[0m\u001b[0;36m0\u001b[0m\u001b[0;34m]\u001b[0m\u001b[0;34m\u001b[0m\u001b[0m\n",
      "\u001b[0;31mUnboundLocalError\u001b[0m: local variable 'x1' referenced before assignment"
     ]
    }
   ],
   "source": [
    "def area(vertices):\n",
    "    vertices=[[x1,y1],[x2,y2],[x3,y3]]   #重复定义vertices，要把这一行删掉\n",
    "    x1=vertices[0][0]\n",
    "    x2=vertices[1][0]\n",
    "    x3=vertices[2][0]\n",
    "    y1=vertices[0][1]\n",
    "    y2=vertices[1][1]\n",
    "    y3=vertices[2][1]\n",
    "    return 1/2*(x2*y3-x3*y2-x1*y3+x3*y1+x1*y2-x2*y1) \n",
    "\n",
    "vertices=[[0,0],[1,0],[0,2]]\n",
    "A=area(vertices)               #调用上面定义的函数  \n",
    "print (A)"
   ]
  },
  {
   "cell_type": "code",
   "execution_count": 51,
   "metadata": {},
   "outputs": [],
   "source": [
    "def pathlength(x,y):\n",
    "    l=0\n",
    "    from math import sqrt\n",
    "    for i in range(1,len(x),1):    #人工设定i的初始值为1，变化间隔为1\n",
    "        xm=x[i]\n",
    "        xn=x[i-1]\n",
    "        ym=y[i]\n",
    "        yn=y[i-1]\n",
    "        l+=sqrt((xm-xn)**2+(ym-yn)**2)\n",
    "    return l"
   ]
  },
  {
   "cell_type": "code",
   "execution_count": 52,
   "metadata": {},
   "outputs": [
    {
     "name": "stdout",
     "output_type": "stream",
     "text": [
      "3.414213562373095\n"
     ]
    }
   ],
   "source": [
    "x=[1,2,1,1]\n",
    "y=[1,1,2,1]\n",
    "l=pathlength(x,y)\n",
    "print (l)"
   ]
  },
  {
   "cell_type": "code",
   "execution_count": 13,
   "metadata": {},
   "outputs": [],
   "source": [
    "def pathlength(x,y):\n",
    "    from math import sqrt\n",
    "    for i in range(len(x)):\n",
    "        xm=x[i]\n",
    "        xn=x[i-1]\n",
    "        ym=y[i]\n",
    "        yn=y[i-1]\n",
    "        l=0                #初始长度l=0放在循环内，指令l在每一个循环内的值均为0，应该把l=0放在循环外\n",
    "        l+=sqrt((xm-xn)**2+(ym-yn)**2)\n",
    "    return l"
   ]
  },
  {
   "cell_type": "code",
   "execution_count": 14,
   "metadata": {},
   "outputs": [
    {
     "name": "stdout",
     "output_type": "stream",
     "text": [
      "1.0\n"
     ]
    }
   ],
   "source": [
    "x=[1,2,1,1]\n",
    "y=[1,1,2,1]\n",
    "l=pathlength(x,y)\n",
    "print (l)"
   ]
  },
  {
   "cell_type": "code",
   "execution_count": 27,
   "metadata": {},
   "outputs": [],
   "source": [
    "def pathlength(x,y):\n",
    "    l=0\n",
    "    from math import sqrt\n",
    "    for i in range(len(x)):\n",
    "        xm=x[i]\n",
    "        xn=x[i-1]\n",
    "        ym=y[i]\n",
    "        yn=y[i-1]\n",
    "        if len(x)==len(y):\n",
    "            l+=sqrt((xm-xn)**2+(ym-yn)**2)\n",
    "        else:\n",
    "            print ('error')\n",
    "    return  l  "
   ]
  },
  {
   "cell_type": "code",
   "execution_count": 28,
   "metadata": {},
   "outputs": [
    {
     "name": "stdout",
     "output_type": "stream",
     "text": [
      "3.414213562373095\n"
     ]
    }
   ],
   "source": [
    "x=[1,2,1,1]\n",
    "y=[1,1,2,1]\n",
    "l=pathlength(x,y)\n",
    "print (l)"
   ]
  },
  {
   "cell_type": "code",
   "execution_count": 29,
   "metadata": {},
   "outputs": [],
   "source": [
    "def pathlength(x,y):\n",
    "    l=0\n",
    "    from math import sqrt\n",
    "    for i in range(len(x)):\n",
    "        xm=x[i]\n",
    "        xn=x[i-1]\n",
    "        ym=y[i]\n",
    "        yn=y[i-1]\n",
    "        if len(x)==len(y):\n",
    "            l+=sqrt((xm-xn)**2+(ym-yn)**2)\n",
    "        else:\n",
    "            print ('error')\n",
    "    return  l  "
   ]
  },
  {
   "cell_type": "code",
   "execution_count": 30,
   "metadata": {},
   "outputs": [
    {
     "name": "stdout",
     "output_type": "stream",
     "text": [
      "error\n",
      "error\n",
      "error\n",
      "0\n"
     ]
    }
   ],
   "source": [
    "x=[1,2,1]\n",
    "y=[1,1,2,1]\n",
    "l=pathlength(x,y)\n",
    "print (l)"
   ]
  },
  {
   "cell_type": "code",
   "execution_count": 49,
   "metadata": {},
   "outputs": [],
   "source": [
    "def pathlength(x,y):\n",
    "    l=0\n",
    "    from math import sqrt\n",
    "    for i in range(len(x)):\n",
    "        xm=x[i]\n",
    "        xn=x[i-1]\n",
    "        ym=y[i]\n",
    "        yn=y[i-1]\n",
    "        if len(x)==len(y) and len(x)>=2:\n",
    "            l+=sqrt((xm-xn)**2+(ym-yn)**2)\n",
    "        else:\n",
    "            print ('error')\n",
    "    return  l  "
   ]
  },
  {
   "cell_type": "code",
   "execution_count": 50,
   "metadata": {},
   "outputs": [
    {
     "name": "stdout",
     "output_type": "stream",
     "text": [
      "error\n",
      "0\n"
     ]
    }
   ],
   "source": [
    "x=[1]\n",
    "y=[1,1,2,1]\n",
    "l=pathlength(x,y)\n",
    "print (l)"
   ]
  },
  {
   "cell_type": "code",
   "execution_count": 41,
   "metadata": {},
   "outputs": [],
   "source": [
    "def pathlength(x,y):\n",
    "    if len(x)==len(y) and len(x)>=2:\n",
    "        l=0\n",
    "        from math import sqrt\n",
    "        for i in range(len(x)):\n",
    "            xm=x[i]\n",
    "            xn=x[i-1]\n",
    "            ym=y[i]\n",
    "            yn=y[i-1]\n",
    "            l+=sqrt((xm-xn)**2+(ym-yn)**2)\n",
    "        return l\n",
    "    else:\n",
    "        print ('error')\n",
    "        return    "
   ]
  },
  {
   "cell_type": "code",
   "execution_count": 43,
   "metadata": {},
   "outputs": [
    {
     "name": "stdout",
     "output_type": "stream",
     "text": [
      "3.414213562373095\n"
     ]
    }
   ],
   "source": [
    "x=[1,2,1,1]\n",
    "y=[1,1,2,1]\n",
    "l=pathlength(x,y)\n",
    "print (l)"
   ]
  },
  {
   "cell_type": "code",
   "execution_count": 44,
   "metadata": {},
   "outputs": [
    {
     "name": "stdout",
     "output_type": "stream",
     "text": [
      "error\n",
      "None\n"
     ]
    }
   ],
   "source": [
    "x=[1]\n",
    "y=[1,1,2,1]\n",
    "l=pathlength(x,y)\n",
    "print (l)"
   ]
  },
  {
   "cell_type": "code",
   "execution_count": 11,
   "metadata": {},
   "outputs": [],
   "source": [
    "def hw1():\n",
    "    return 'Hello, World'"
   ]
  },
  {
   "cell_type": "code",
   "execution_count": 12,
   "metadata": {},
   "outputs": [
    {
     "name": "stdout",
     "output_type": "stream",
     "text": [
      "Hello, World\n"
     ]
    }
   ],
   "source": [
    "print (hw1())"
   ]
  },
  {
   "cell_type": "code",
   "execution_count": 13,
   "metadata": {},
   "outputs": [],
   "source": [
    "def hw2():\n",
    "    print ('Hello, World')"
   ]
  },
  {
   "cell_type": "code",
   "execution_count": 14,
   "metadata": {},
   "outputs": [
    {
     "name": "stdout",
     "output_type": "stream",
     "text": [
      "Hello, World\n"
     ]
    }
   ],
   "source": [
    "hw2()"
   ]
  },
  {
   "cell_type": "code",
   "execution_count": 21,
   "metadata": {},
   "outputs": [],
   "source": [
    "def hw3(x,y):\n",
    "    print (x,',',y)"
   ]
  },
  {
   "cell_type": "code",
   "execution_count": 23,
   "metadata": {},
   "outputs": [
    {
     "name": "stdout",
     "output_type": "stream",
     "text": [
      "Hello , World\n"
     ]
    }
   ],
   "source": [
    "x='Hello'\n",
    "y='World'\n",
    "hw3(x,y)     #上面已经print过了，就不用再print了，直接调用该函数即可。"
   ]
  },
  {
   "cell_type": "code",
   "execution_count": 27,
   "metadata": {},
   "outputs": [],
   "source": [
    "def gauss(x,m=0,s=1):\n",
    "    from math import pi,exp,sqrt\n",
    "    y=1/((sqrt(2*pi))*s)*exp((-1/2)*((x-m)/s)**2)\n",
    "    return (y)"
   ]
  },
  {
   "cell_type": "code",
   "execution_count": 30,
   "metadata": {},
   "outputs": [
    {
     "name": "stdout",
     "output_type": "stream",
     "text": [
      "[-5, -4, -3, -2, -1, 0, 1, 2, 3, 4, 5] [1.4867195147342977e-06, 0.00013383022576488537, 0.0044318484119380075, 0.05399096651318806, 0.24197072451914337, 0.3989422804014327, 0.24197072451914337, 0.05399096651318806, 0.0044318484119380075, 0.00013383022576488537, 1.4867195147342977e-06]\n"
     ]
    }
   ],
   "source": [
    "x=[]\n",
    "y0=[]\n",
    "for i in range(-5,6,1):\n",
    "    y=gauss(i,m=0,s=1)\n",
    "    x.append(i)\n",
    "    y0.append(y)\n",
    "print (x,y0)"
   ]
  },
  {
   "cell_type": "code",
   "execution_count": 33,
   "metadata": {},
   "outputs": [],
   "source": [
    "import matplotlib.pyplot as plt"
   ]
  },
  {
   "cell_type": "code",
   "execution_count": 34,
   "metadata": {},
   "outputs": [
    {
     "data": {
      "text/plain": [
       "[<matplotlib.lines.Line2D at 0xae390d2c>]"
      ]
     },
     "execution_count": 34,
     "metadata": {},
     "output_type": "execute_result"
    },
    {
     "data": {
      "image/png": "[encoded data removed]",
      "text/plain": [
       "<matplotlib.figure.Figure at 0xae3cf6cc>"
      ]
     },
     "metadata": {},
     "output_type": "display_data"
    }
   ],
   "source": [
    "plt.plot(x,y0,'ro-')"
   ]
  },
  {
   "cell_type": "code",
   "execution_count": 35,
   "metadata": {},
   "outputs": [],
   "source": [
    "def gauss(x,m=0,s=1):\n",
    "    from math import pi,exp,sqrt\n",
    "    y=1/((sqrt(2*pi))*s)*exp((-1/2)*((x-m)/s)**2)\n",
    "    return (y)"
   ]
  },
  {
   "cell_type": "code",
   "execution_count": 37,
   "metadata": {},
   "outputs": [
    {
     "name": "stdout",
     "output_type": "stream",
     "text": [
      "[-5, -4, -3, -2, -1, 0, 1, 2, 3, 4, 5] [0.0022159242059690038, 0.00876415024678427, 0.02699548325659403, 0.06475879783294587, 0.12098536225957168, 0.17603266338214976, 0.19947114020071635, 0.17603266338214976, 0.12098536225957168, 0.06475879783294587, 0.02699548325659403]\n"
     ]
    }
   ],
   "source": [
    "x=[]\n",
    "y0=[]\n",
    "for i in range(-5,6,1):\n",
    "    y=gauss(i,m=1,s=2)   #调用时不用m,s的默认值\n",
    "    x.append(i)\n",
    "    y0.append(y)\n",
    "print (x,y0)"
   ]
  },
  {
   "cell_type": "code",
   "execution_count": 38,
   "metadata": {},
   "outputs": [],
   "source": [
    "import matplotlib.pyplot as plt"
   ]
  },
  {
   "cell_type": "code",
   "execution_count": 39,
   "metadata": {},
   "outputs": [
    {
     "data": {
      "text/plain": [
       "[<matplotlib.lines.Line2D at 0xae340fac>]"
      ]
     },
     "execution_count": 39,
     "metadata": {},
     "output_type": "execute_result"
    },
    {
     "data": {
      "image/png": "[encoded data removed]",
      "text/plain": [
       "<matplotlib.figure.Figure at 0xae3b35ac>"
      ]
     },
     "metadata": {},
     "output_type": "display_data"
    }
   ],
   "source": [
    "plt.plot(x,y0,'ro-')"
   ]
  },
  {
   "cell_type": "code",
   "execution_count": 40,
   "metadata": {},
   "outputs": [],
   "source": [
    "def gauss(x,m=0,s=1):\n",
    "    from math import pi,exp,sqrt\n",
    "    y=1/((sqrt(2*pi))*s)*exp((-1/2)*((x-m)/s)**2)\n",
    "    return (y)"
   ]
  },
  {
   "cell_type": "code",
   "execution_count": 44,
   "metadata": {},
   "outputs": [
    {
     "name": "stdout",
     "output_type": "stream",
     "text": [
      "[-5, -4, -3, -2, -1, 0, 1, 2, 3, 4, 5] [1.4867195147342977e-06, 0.00013383022576488537, 0.0044318484119380075, 0.05399096651318806, 0.24197072451914337, 0.3989422804014327, 0.24197072451914337, 0.05399096651318806, 0.0044318484119380075, 0.00013383022576488537, 1.4867195147342977e-06]\n"
     ]
    }
   ],
   "source": [
    "x=list(range(-5,6,1))\n",
    "y0=list(map(gauss,x))   #map函数，把xlist中的值一个个的带入gauss函数中，只能传递一个自变量。\n",
    "print (x,y0)"
   ]
  },
  {
   "cell_type": "code",
   "execution_count": 45,
   "metadata": {},
   "outputs": [
    {
     "data": {
      "text/plain": [
       "True"
      ]
     },
     "execution_count": 45,
     "metadata": {},
     "output_type": "execute_result"
    }
   ],
   "source": [
    "isinstance(1,int)"
   ]
  },
  {
   "cell_type": "code",
   "execution_count": 52,
   "metadata": {},
   "outputs": [],
   "source": [
    "a=[1,2.4,'run.py']"
   ]
  },
  {
   "cell_type": "code",
   "execution_count": 53,
   "metadata": {},
   "outputs": [
    {
     "ename": "TypeError",
     "evalue": "unorderable types: str() < float()",
     "output_type": "error",
     "traceback": [
      "\u001b[0;31m---------------------------------------------------------------------------\u001b[0m",
      "\u001b[0;31mTypeError\u001b[0m                                 Traceback (most recent call last)",
      "\u001b[0;32m<ipython-input-53-ca63776b8466>\u001b[0m in \u001b[0;36m<module>\u001b[0;34m()\u001b[0m\n\u001b[0;32m----> 1\u001b[0;31m \u001b[0msorted\u001b[0m\u001b[0;34m(\u001b[0m\u001b[0ma\u001b[0m\u001b[0;34m)\u001b[0m\u001b[0;34m\u001b[0m\u001b[0m\n\u001b[0m",
      "\u001b[0;31mTypeError\u001b[0m: unorderable types: str() < float()"
     ]
    }
   ],
   "source": [
    "sorted(a)"
   ]
  },
  {
   "cell_type": "code",
   "execution_count": 56,
   "metadata": {},
   "outputs": [
    {
     "data": {
      "text/plain": [
       "6"
      ]
     },
     "execution_count": 56,
     "metadata": {},
     "output_type": "execute_result"
    }
   ],
   "source": [
    "a=[1,2.4,'run.py',[[2,5,6],2,5,9]]\n",
    "a[3][0][2]"
   ]
  },
  {
   "cell_type": "code",
   "execution_count": 1,
   "metadata": {},
   "outputs": [],
   "source": [
    "def f(x):\n",
    "    term=1\n",
    "    term=x**2\n",
    "    return term1+terms"
   ]
  },
  {
   "cell_type": "code",
   "execution_count": 2,
   "metadata": {},
   "outputs": [
    {
     "name": "stdout",
     "output_type": "stream",
     "text": [
      "5\n"
     ]
    }
   ],
   "source": [
    "def f(x,a,b):\n",
    "    return a+b*x\n",
    "print (f(1,2,3))"
   ]
  },
  {
   "cell_type": "code",
   "execution_count": 3,
   "metadata": {},
   "outputs": [],
   "source": [
    "def f(x,w):\n",
    "    from math import sin\n",
    "    return sin(w*x)"
   ]
  },
  {
   "cell_type": "code",
   "execution_count": 4,
   "metadata": {},
   "outputs": [
    {
     "ename": "TypeError",
     "evalue": "'str' object is not callable",
     "output_type": "error",
     "traceback": [
      "\u001b[0;31m---------------------------------------------------------------------------\u001b[0m",
      "\u001b[0;31mTypeError\u001b[0m                                 Traceback (most recent call last)",
      "\u001b[0;32m<ipython-input-4-e226a287ea39>\u001b[0m in \u001b[0;36m<module>\u001b[0;34m()\u001b[0m\n\u001b[1;32m      2\u001b[0m \u001b[0mw\u001b[0m\u001b[0;34m=\u001b[0m\u001b[0;36m10\u001b[0m\u001b[0;34m\u001b[0m\u001b[0m\n\u001b[1;32m      3\u001b[0m \u001b[0mx\u001b[0m\u001b[0;34m=\u001b[0m\u001b[0;36m0.1\u001b[0m\u001b[0;34m\u001b[0m\u001b[0m\n\u001b[0;32m----> 4\u001b[0;31m \u001b[0mprint\u001b[0m \u001b[0;34m(\u001b[0m\u001b[0mf\u001b[0m\u001b[0;34m(\u001b[0m\u001b[0mx\u001b[0m\u001b[0;34m,\u001b[0m\u001b[0mw\u001b[0m\u001b[0;34m)\u001b[0m\u001b[0;34m)\u001b[0m\u001b[0;34m\u001b[0m\u001b[0m\n\u001b[0m",
      "\u001b[0;31mTypeError\u001b[0m: 'str' object is not callable"
     ]
    }
   ],
   "source": [
    "f='f(x,w)'   #不能再把函数定义成一个字符串，否则无法调用\n",
    "w=10\n",
    "x=0.1\n",
    "print (f(x,w))"
   ]
  },
  {
   "cell_type": "code",
   "execution_count": 6,
   "metadata": {},
   "outputs": [
    {
     "ename": "TypeError",
     "evalue": "'str' object is not callable",
     "output_type": "error",
     "traceback": [
      "\u001b[0;31m---------------------------------------------------------------------------\u001b[0m",
      "\u001b[0;31mTypeError\u001b[0m                                 Traceback (most recent call last)",
      "\u001b[0;32m<ipython-input-6-56eeceaca3fa>\u001b[0m in \u001b[0;36m<module>\u001b[0;34m()\u001b[0m\n\u001b[1;32m      1\u001b[0m \u001b[0mw\u001b[0m\u001b[0;34m=\u001b[0m\u001b[0;36m10\u001b[0m\u001b[0;34m\u001b[0m\u001b[0m\n\u001b[1;32m      2\u001b[0m \u001b[0mx\u001b[0m\u001b[0;34m=\u001b[0m\u001b[0;36m0.1\u001b[0m\u001b[0;34m\u001b[0m\u001b[0m\n\u001b[0;32m----> 3\u001b[0;31m \u001b[0mprint\u001b[0m \u001b[0;34m(\u001b[0m\u001b[0mf\u001b[0m\u001b[0;34m(\u001b[0m\u001b[0mx\u001b[0m\u001b[0;34m,\u001b[0m\u001b[0mw\u001b[0m\u001b[0;34m)\u001b[0m\u001b[0;34m)\u001b[0m\u001b[0;34m\u001b[0m\u001b[0m\n\u001b[0m",
      "\u001b[0;31mTypeError\u001b[0m: 'str' object is not callable"
     ]
    }
   ],
   "source": [
    "w=10\n",
    "x=0.1\n",
    "print (f(x,w))"
   ]
  },
  {
   "cell_type": "code",
   "execution_count": null,
   "metadata": {},
   "outputs": [],
   "source": [
    "from math import *\n",
    "def log(message):\n",
    "    print message\n",
    "    \n",
    "Print 'The logarithm of 1 is', log(1)  #错误：没有与log(1)对应的return  "
   ]
  },
  {
   "cell_type": "code",
   "execution_count": 12,
   "metadata": {},
   "outputs": [
    {
     "name": "stdout",
     "output_type": "stream",
     "text": [
      "True\n"
     ]
    }
   ],
   "source": [
    "if 2:\n",
    "    print('True')"
   ]
  },
  {
   "cell_type": "code",
   "execution_count": 15,
   "metadata": {},
   "outputs": [],
   "source": [
    "if 0:\n",
    "    print ('True')"
   ]
  }
 ],
 "metadata": {
  "kernelspec": {
   "display_name": "Python 3",
   "language": "python",
   "name": "python3"
  },
  "language_info": {
   "codemirror_mode": {
    "name": "ipython",
    "version": 3
   },
   "file_extension": ".py",
   "mimetype": "text/x-python",
   "name": "python",
   "nbconvert_exporter": "python",
   "pygments_lexer": "ipython3",
   "version": "3.5.2"
  }
 },
 "nbformat": 4,
 "nbformat_minor": 2
}
