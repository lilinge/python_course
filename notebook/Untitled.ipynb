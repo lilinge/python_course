{
 "cells": [
  {
   "cell_type": "code",
   "execution_count": 7,
   "metadata": {},
   "outputs": [
    {
     "name": "stdout",
     "output_type": "stream",
     "text": [
      "[0, 0.1, 0.2, 0.30000000000000004, 0.4, 0.5, 0.6, 0.7, 0.7999999999999999, 0.8999999999999999, 0.9999999999999999] [1.0, 1.1619039607568877, 1.3012056815137754, 1.417905162270663, 1.5120024030275507, 1.5834974037844385, 1.6323901645413263, 1.658680685298214, 1.6623689660551018, 1.6434550068119895, 1.6019388075688774]\n"
     ]
    }
   ],
   "source": [
    "g=9.81\n",
    "v0=15\n",
    "theta=60\n",
    "x=0\n",
    "y0=1\n",
    "xl=[]\n",
    "yl=[]\n",
    "from math import pi,tan,cos\n",
    "v0=v0/3.6\n",
    "theta=theta*pi/180\n",
    "while x<=1.0:\n",
    "    y=x*tan(theta)-1/(2*v0**2)*g*x**2/((cos(theta))**2)+y0\n",
    "    yl.append(y)\n",
    "    xl.append(x)\n",
    "    x=x+0.1\n",
    "print (xl,yl)"
   ]
  },
  {
   "cell_type": "code",
   "execution_count": 10,
   "metadata": {},
   "outputs": [],
   "source": [
    "import matplotlib.pyplot as plt"
   ]
  },
  {
   "cell_type": "code",
   "execution_count": 11,
   "metadata": {},
   "outputs": [
    {
     "data": {
      "text/plain": [
       "[<matplotlib.lines.Line2D at 0xadd54aec>]"
      ]
     },
     "execution_count": 11,
     "metadata": {},
     "output_type": "execute_result"
    },
    {
     "data": {
      "image/png": "[encoded data removed]",
      "text/plain": [
       "<matplotlib.figure.Figure at 0xaeda53ec>"
      ]
     },
     "metadata": {},
     "output_type": "display_data"
    }
   ],
   "source": [
    "plt.plot(xl,yl,'ro-')"
   ]
  },
  {
   "cell_type": "code",
   "execution_count": 16,
   "metadata": {},
   "outputs": [
    {
     "ename": "SyntaxError",
     "evalue": "invalid syntax (<ipython-input-16-0a364e789030>, line 3)",
     "output_type": "error",
     "traceback": [
      "\u001b[0;36m  File \u001b[0;32m\"<ipython-input-16-0a364e789030>\"\u001b[0;36m, line \u001b[0;32m3\u001b[0m\n\u001b[0;31m    whie a<=13:\u001b[0m\n\u001b[0m         ^\u001b[0m\n\u001b[0;31mSyntaxError\u001b[0m\u001b[0;31m:\u001b[0m invalid syntax\n"
     ]
    }
   ],
   "source": [
    "a=-1\n",
    "al=[]\n",
    "whie a<=13:\n",
    "     a=a+2\n",
    "     al.append(a)\n",
    "print (al)"
   ]
  },
  {
   "cell_type": "code",
   "execution_count": 18,
   "metadata": {},
   "outputs": [
    {
     "name": "stdout",
     "output_type": "stream",
     "text": [
      "1\n",
      "3\n",
      "5\n",
      "7\n",
      "11\n",
      "13\n"
     ]
    }
   ],
   "source": [
    "primes=[1,3,5,7,11,13]\n",
    "for i in primes:\n",
    "    print (i)\n",
    " "
   ]
  },
  {
   "cell_type": "code",
   "execution_count": 25,
   "metadata": {},
   "outputs": [
    {
     "name": "stdout",
     "output_type": "stream",
     "text": [
      "[1, 1.01, 1.02, 1.03, 1.04, 1.05, 1.06, 1.07, 1.08, 1.09, 1.1, 1.11, 1.12, 1.13, 1.14, 1.15, 1.16, 1.17, 1.18, 1.19, 1.2, 1.21, 1.22, 1.23, 1.24, 1.25, 1.26, 1.27, 1.28, 1.29, 1.3, 1.31, 1.32, 1.33, 1.34, 1.35, 1.36, 1.37, 1.38, 1.39, 1.4, 1.41, 1.42, 1.43, 1.44, 1.45, 1.46, 1.47, 1.48, 1.49, 1.5, 1.51, 1.52, 1.53, 1.54, 1.55, 1.56, 1.57, 1.58, 1.59, 1.6, 1.61, 1.62, 1.63, 1.64, 1.65, 1.66, 1.67, 1.68, 1.69, 1.7, 1.71, 1.72, 1.73, 1.74, 1.75, 1.76, 1.77, 1.78, 1.79, 1.8, 1.81, 1.82, 1.83, 1.84, 1.85, 1.86, 1.87, 1.88, 1.89, 1.9, 1.91, 1.92, 1.93, 1.94, 1.95, 1.96, 1.97, 1.98, 1.99, 2.0]\n"
     ]
    }
   ],
   "source": [
    "x=1\n",
    "i=0\n",
    "xl=[]\n",
    "while x<=2 and i<=100:\n",
    "    xl.append(x)\n",
    "    x=x+0.01\n",
    "    x=float('%.2f'%x) #格式化数字，保留两位数字\n",
    "    i=i+1\n",
    "print (xl)"
   ]
  },
  {
   "cell_type": "code",
   "execution_count": 4,
   "metadata": {},
   "outputs": [
    {
     "name": "stdout",
     "output_type": "stream",
     "text": [
      "[1.0, 1.01, 1.02, 1.03, 1.04, 1.05, 1.06, 1.07, 1.08, 1.09, 1.1, 1.11, 1.12, 1.13, 1.14, 1.15, 1.16, 1.17, 1.18, 1.19, 1.2, 1.21, 1.22, 1.23, 1.24, 1.25, 1.26, 1.27, 1.28, 1.29, 1.3, 1.31, 1.32, 1.33, 1.34, 1.35, 1.36, 1.37, 1.38, 1.39, 1.4, 1.41, 1.42, 1.43, 1.44, 1.45, 1.46, 1.47, 1.48, 1.49, 1.5, 1.51, 1.52, 1.53, 1.54, 1.55, 1.56, 1.57, 1.58, 1.59, 1.6, 1.61, 1.62, 1.63, 1.64, 1.65, 1.66, 1.67, 1.68, 1.69, 1.7, 1.71, 1.72, 1.73, 1.74, 1.75, 1.76, 1.77, 1.78, 1.79, 1.8, 1.81, 1.82, 1.83, 1.84, 1.85, 1.86, 1.87, 1.88, 1.89, 1.9, 1.91, 1.92, 1.93, 1.94, 1.95, 1.96, 1.97, 1.98, 1.99, 2.0]\n"
     ]
    }
   ],
   "source": [
    "#coori.py\n",
    "xi=1\n",
    "dx=0.01\n",
    "i=0\n",
    "xl=[]\n",
    "for i in range(0,101,1):\n",
    "    x=xi+dx*i\n",
    "    x=float('%.2f'%x) #格式化数字，保留两位小数\n",
    "    xl.append(x)\n",
    "    i=i+1\n",
    "print (xl)"
   ]
  },
  {
   "cell_type": "code",
   "execution_count": 9,
   "metadata": {},
   "outputs": [
    {
     "name": "stdout",
     "output_type": "stream",
     "text": [
      "1 2 3\n",
      "1 2 4\n",
      "1 3 2\n",
      "1 3 4\n",
      "1 4 2\n",
      "1 4 3\n",
      "2 1 3\n",
      "2 1 4\n",
      "2 3 1\n",
      "2 3 4\n",
      "2 4 1\n",
      "2 4 3\n",
      "3 1 2\n",
      "3 1 4\n",
      "3 2 1\n",
      "3 2 4\n",
      "3 4 1\n",
      "3 4 2\n",
      "4 1 2\n",
      "4 1 3\n",
      "4 2 1\n",
      "4 2 3\n",
      "4 3 1\n",
      "4 3 2\n"
     ]
    }
   ],
   "source": [
    "for a in range(1,5):\n",
    "    for b in range(1,5):\n",
    "        for c in range(1,5):\n",
    "            if(a!=b)and(a!=c)and(b!=c):\n",
    "                print (a,b,c)"
   ]
  },
  {
   "cell_type": "code",
   "execution_count": 10,
   "metadata": {},
   "outputs": [
    {
     "name": "stdout",
     "output_type": "stream",
     "text": [
      "[[1, 2, 3], [1, 2, 4], [1, 3, 2], [1, 3, 4], [1, 4, 2], [1, 4, 3], [2, 1, 3], [2, 1, 4], [2, 3, 1], [2, 3, 4], [2, 4, 1], [2, 4, 3], [3, 1, 2], [3, 1, 4], [3, 2, 1], [3, 2, 4], [3, 4, 1], [3, 4, 2], [4, 1, 2], [4, 1, 3], [4, 2, 1], [4, 2, 3], [4, 3, 1], [4, 3, 2]]\n"
     ]
    }
   ],
   "source": [
    "d=[]\n",
    "for a in range(1,5):\n",
    "    for b in range(1,5):\n",
    "        for c in range(1,5):\n",
    "            if(a!=b)and(a!=c)and(b!=c):\n",
    "                d.append([a,b,c])\n",
    "print (d)"
   ]
  },
  {
   "cell_type": "code",
   "execution_count": 2,
   "metadata": {},
   "outputs": [
    {
     "name": "stdout",
     "output_type": "stream",
     "text": [
      "奖金： -314972500.0 元\n"
     ]
    }
   ],
   "source": [
    "x=750000\n",
    "if x<=100000:\n",
    "    bonus=x*0.1\n",
    "    print (u\"奖金：\",bonus,u\"元\")\n",
    "elif 100001<x<=200000:\n",
    "    bonus=10000+(x-100000)*0.075\n",
    "    print (u\"奖金：\",bonus,u\"元\")\n",
    "elif 200001<x<=400000:\n",
    "    bonus=10000+7500+(x-200000)*0.05\n",
    "    print (u\"奖金：\",bonus,u\"元\")\n",
    "elif 400001<x<=600000:\n",
    "    bonus=10000+7500+10000*(x-4000000)*0.03\n",
    "    print (u\"奖金：\",bonus,u\"元\")\n",
    "elif 600001<x<=1000000:\n",
    "    bonus=10000+7500+10000+6000*(x-6000000)*0.01\n",
    "    print (u\"奖金：\",bonus,u\"元\")\n",
    "    "
   ]
  },
  {
   "cell_type": "code",
   "execution_count": 1,
   "metadata": {},
   "outputs": [
    {
     "ename": "SyntaxError",
     "evalue": "invalid syntax (<ipython-input-1-df11bee73d9b>, line 10)",
     "output_type": "error",
     "traceback": [
      "\u001b[0;36m  File \u001b[0;32m\"<ipython-input-1-df11bee73d9b>\"\u001b[0;36m, line \u001b[0;32m10\u001b[0m\n\u001b[0;31m    bonus=sum(map(lambda(i1,i2):i1*i2,zip(b,r)))\u001b[0m\n\u001b[0m                        ^\u001b[0m\n\u001b[0;31mSyntaxError\u001b[0m\u001b[0;31m:\u001b[0m invalid syntax\n"
     ]
    }
   ],
   "source": [
    "i=int(raw_input)\n",
    "I=[1000000,600000,400000,200000,100000,0]\n",
    "r=[0.01,0.015,0.03,0.05,0.075,0.1]\n",
    "for j in range(len(I)):\n",
    "    if i>I(j):\n",
    "        b=[0,0,0,0,0,0]\n",
    "        b[j]=i-I[j]\n",
    "        for k in range(j+1,len(I)):\n",
    "            b[k]=I[k-1]\n",
    "        bonus=sum(map(lambda(i1,i2):i1*i2,zip(b,r)))\n",
    "        break\n",
    "print (bonus)"
   ]
  },
  {
   "cell_type": "code",
   "execution_count": 2,
   "metadata": {},
   "outputs": [
    {
     "name": "stdout",
     "output_type": "stream",
     "text": [
      "-99.0\n",
      "21.0\n",
      "261.0\n",
      "1581.0\n"
     ]
    }
   ],
   "source": [
    "for i in range(1,85):\n",
    "    if 168%i==0:\n",
    "        j=168/i;\n",
    "        if i>j and (i+j)%2==0 and (i-j)%2==0:\n",
    "            m=(i+j)/2\n",
    "            n=(i-j)/2\n",
    "            x=n*n-100\n",
    "            print (x)"
   ]
  },
  {
   "cell_type": "code",
   "execution_count": 4,
   "metadata": {},
   "outputs": [
    {
     "name": "stdout",
     "output_type": "stream",
     "text": [
      "1581.0\n",
      "261.0\n",
      "21.0\n",
      "-99.0\n"
     ]
    }
   ],
   "source": [
    "for k in range(1,13):\n",
    "    n=84/k-k/2\n",
    "    if int(n)==n:\n",
    "        x=n**2-100\n",
    "        print (x)"
   ]
  },
  {
   "cell_type": "code",
   "execution_count": 12,
   "metadata": {},
   "outputs": [
    {
     "name": "stdout",
     "output_type": "stream",
     "text": [
      "([1, 3, 5, 7, 9, 11], [2, 4, 6, 8, 10, 12], [3, 6, 9, 12, 15, 18])\n"
     ]
    }
   ],
   "source": [
    "x=[1,3,5,7,9,11]\n",
    "y=[2,4,6,8,10,12]\n",
    "z=[3,6,9,12,15,18]\n",
    "if (x>y):\n",
    "    x=a\n",
    "    y=b\n",
    "    b=x\n",
    "    a=y\n",
    "if (y>z):\n",
    "    y=m\n",
    "    z=n\n",
    "    n=y\n",
    "    m=z        \n",
    "print ((x,y,z))"
   ]
  },
  {
   "cell_type": "code",
   "execution_count": 13,
   "metadata": {},
   "outputs": [
    {
     "name": "stdout",
     "output_type": "stream",
     "text": [
      "[1, 2, 3]\n"
     ]
    }
   ],
   "source": [
    "a=[1,2,3]\n",
    "b=a[:]\n",
    "print (b)"
   ]
  },
  {
   "cell_type": "code",
   "execution_count": 14,
   "metadata": {},
   "outputs": [
    {
     "name": "stdout",
     "output_type": "stream",
     "text": [
      "[1, 2, 3]\n"
     ]
    }
   ],
   "source": [
    "a=[1,2,3]\n",
    "b=a.copy()\n",
    "print (b)"
   ]
  },
  {
   "cell_type": "code",
   "execution_count": 20,
   "metadata": {},
   "outputs": [
    {
     "name": "stdout",
     "output_type": "stream",
     "text": [
      "[1, 2, 3, 4, 5]\n"
     ]
    }
   ],
   "source": [
    "l=[1,2,3,4,5]\n",
    "p=[]\n",
    "for i in l:\n",
    "    p.append(i)\n",
    "print (p)"
   ]
  },
  {
   "cell_type": "code",
   "execution_count": 5,
   "metadata": {},
   "outputs": [
    {
     "name": "stdout",
     "output_type": "stream",
     "text": [
      "1 1 1\n",
      "1 2 2\n",
      "1 3 3\n",
      "1 4 4\n",
      "1 5 5\n",
      "1 6 6\n",
      "1 7 7\n",
      "1 8 8\n",
      "1 9 9\n",
      "2 1 2\n",
      "2 2 4\n",
      "2 3 6\n",
      "2 4 8\n",
      "2 5 10\n",
      "2 6 12\n",
      "2 7 14\n",
      "2 8 16\n",
      "2 9 18\n",
      "3 1 3\n",
      "3 2 6\n",
      "3 3 9\n",
      "3 4 12\n",
      "3 5 15\n",
      "3 6 18\n",
      "3 7 21\n",
      "3 8 24\n",
      "3 9 27\n",
      "4 1 4\n",
      "4 2 8\n",
      "4 3 12\n",
      "4 4 16\n",
      "4 5 20\n",
      "4 6 24\n",
      "4 7 28\n",
      "4 8 32\n",
      "4 9 36\n",
      "5 1 5\n",
      "5 2 10\n",
      "5 3 15\n",
      "5 4 20\n",
      "5 5 25\n",
      "5 6 30\n",
      "5 7 35\n",
      "5 8 40\n",
      "5 9 45\n",
      "6 1 6\n",
      "6 2 12\n",
      "6 3 18\n",
      "6 4 24\n",
      "6 5 30\n",
      "6 6 36\n",
      "6 7 42\n",
      "6 8 48\n",
      "6 9 54\n",
      "7 1 7\n",
      "7 2 14\n",
      "7 3 21\n",
      "7 4 28\n",
      "7 5 35\n",
      "7 6 42\n",
      "7 7 49\n",
      "7 8 56\n",
      "7 9 63\n",
      "8 1 8\n",
      "8 2 16\n",
      "8 3 24\n",
      "8 4 32\n",
      "8 5 40\n",
      "8 6 48\n",
      "8 7 56\n",
      "8 8 64\n",
      "8 9 72\n",
      "9 1 9\n",
      "9 2 18\n",
      "9 3 27\n",
      "9 4 36\n",
      "9 5 45\n",
      "9 6 54\n",
      "9 7 63\n",
      "9 8 72\n",
      "9 9 81\n"
     ]
    }
   ],
   "source": [
    "for i in range(1,10):\n",
    "    for j in range(1,10):\n",
    "        print(i,j,i*j)"
   ]
  },
  {
   "cell_type": "code",
   "execution_count": 10,
   "metadata": {},
   "outputs": [
    {
     "name": "stdout",
     "output_type": "stream",
     "text": [
      "1\n",
      "2\n",
      "3\n",
      "4\n"
     ]
    }
   ],
   "source": [
    "import time\n",
    "l=[1,2,3,4]\n",
    "for i in l:\n",
    "    print (i)\n",
    "    time.sleep(1)  #暂停1s输出"
   ]
  },
  {
   "cell_type": "code",
   "execution_count": null,
   "metadata": {},
   "outputs": [],
   "source": [
    "#判断101-200之间有多少个素数，并输出所有的素数\n",
    "l=[]\n",
    "for i in range(101,200):\n",
    "    for j in range(2,i-1):\n",
    "        if i%j ==0:\n",
    "            break\n",
    "    else:\n",
    "        l.append(i)\n",
    "        \n",
    "print (l)"
   ]
  },
  {
   "cell_type": "code",
   "execution_count": null,
   "metadata": {},
   "outputs": [],
   "source": [
    "#判断101-200之间有多少个素数，并输出所有的素数\n",
    "import math\n",
    "m=range(101,201)\n",
    "p=m[:]\n",
    "for i in range(101,201):\n",
    "    for j in range(2,int(math.sqrt(i)+1)):\n",
    "        if i % j ==0:\n",
    "            p.remove(i)\n",
    "            break\n",
    "print (p)"
   ]
  },
  {
   "cell_type": "code",
   "execution_count": 5,
   "metadata": {},
   "outputs": [
    {
     "ename": "SyntaxError",
     "evalue": "invalid character in identifier (<ipython-input-5-d0cda594257c>, line 5)",
     "output_type": "error",
     "traceback": [
      "\u001b[0;36m  File \u001b[0;32m\"<ipython-input-5-d0cda594257c>\"\u001b[0;36m, line \u001b[0;32m5\u001b[0m\n\u001b[0;31m    elif score[i]>=60：\u001b[0m\n\u001b[0m                     ^\u001b[0m\n\u001b[0;31mSyntaxError\u001b[0m\u001b[0;31m:\u001b[0m invalid character in identifier\n"
     ]
    }
   ],
   "source": [
    "score=[80,78,90,48,62]\n",
    "for i in score:\n",
    "    if score[i]>=90:\n",
    "        grade='A'\n",
    "    elif score[i]>=60：\n",
    "        grade='B'\n",
    "    else:\n",
    "        grade='c'\n",
    "print (score,grade)"
   ]
  },
  {
   "cell_type": "code",
   "execution_count": 10,
   "metadata": {},
   "outputs": [
    {
     "name": "stdout",
     "output_type": "stream",
     "text": [
      "0.09765625\n",
      "299.609375\n"
     ]
    }
   ],
   "source": [
    "height=[]\n",
    "hei=100  #起始高度\n",
    "tim=9   #次数\n",
    "for i in range(1,tim+1):  #从第二次开始时，落地时的距离应该是反弹高度乘以2（弹到最高点再落下）\n",
    "    hei=hei/2\n",
    "    height.append(hei)\n",
    "print (min(height)/2)     #第十次反弹的距离为第十次落地距离的一半\n",
    "print (sum(height)*2+100) #总和加上第一次的100"
   ]
  },
  {
   "cell_type": "code",
   "execution_count": 12,
   "metadata": {},
   "outputs": [
    {
     "name": "stdout",
     "output_type": "stream",
     "text": [
      "32.66026079864164\n"
     ]
    }
   ],
   "source": [
    "a=2\n",
    "b=1\n",
    "s=0\n",
    "for n in range(1,21):  #n表示相数，表示共求20项数字的和\n",
    "    s=s+a/b\n",
    "    t=a\n",
    "    a=a+b\n",
    "    b=t\n",
    "print (s)"
   ]
  },
  {
   "cell_type": "code",
   "execution_count": 14,
   "metadata": {},
   "outputs": [
    {
     "name": "stdout",
     "output_type": "stream",
     "text": [
      "2561327494111820313\n"
     ]
    }
   ],
   "source": [
    "n=0\n",
    "s=0\n",
    "t=1\n",
    "for n in range(1,21):\n",
    "    t=t*n   #先求阶乘\n",
    "    s=s+t   #先求和\n",
    "print (s)"
   ]
  },
  {
   "cell_type": "code",
   "execution_count": 15,
   "metadata": {},
   "outputs": [
    {
     "name": "stdout",
     "output_type": "stream",
     "text": [
      "18\n"
     ]
    }
   ],
   "source": [
    "a=10\n",
    "for n in range(1,5):\n",
    "    a=a+2\n",
    "print (a)"
   ]
  },
  {
   "cell_type": "code",
   "execution_count": 1,
   "metadata": {},
   "outputs": [
    {
     "name": "stdout",
     "output_type": "stream",
     "text": [
      "[1, 2, 3, 4, 5]\n"
     ]
    }
   ],
   "source": [
    "a=[5,4,3,2,1]\n",
    "a.reverse()\n",
    "print (a)"
   ]
  },
  {
   "cell_type": "code",
   "execution_count": 2,
   "metadata": {},
   "outputs": [
    {
     "name": "stdout",
     "output_type": "stream",
     "text": [
      "[1, 2, 3, 4, 5]\n"
     ]
    }
   ],
   "source": [
    "a=[5,4,3,2,1]\n",
    "print (a[::-1])"
   ]
  },
  {
   "cell_type": "code",
   "execution_count": 5,
   "metadata": {},
   "outputs": [
    {
     "ename": "TypeError",
     "evalue": "list indices must be integers or slices, not tuple",
     "output_type": "error",
     "traceback": [
      "\u001b[0;31m---------------------------------------------------------------------------\u001b[0m",
      "\u001b[0;31mTypeError\u001b[0m                                 Traceback (most recent call last)",
      "\u001b[0;32m<ipython-input-5-fe24cedd7596>\u001b[0m in \u001b[0;36m<module>\u001b[0;34m()\u001b[0m\n\u001b[1;32m      1\u001b[0m X=[[12,7,3]\n\u001b[0;32m----> 2\u001b[0;31m \u001b[0;34m[\u001b[0m\u001b[0;36m4\u001b[0m\u001b[0;34m,\u001b[0m\u001b[0;36m5\u001b[0m\u001b[0;34m,\u001b[0m\u001b[0;36m6\u001b[0m\u001b[0;34m]\u001b[0m\u001b[0;34m\u001b[0m\u001b[0m\n\u001b[0m\u001b[1;32m      3\u001b[0m    [7,8,9]]\n\u001b[1;32m      4\u001b[0m Y=[[5,8,1]\n\u001b[1;32m      5\u001b[0m    \u001b[0;34m[\u001b[0m\u001b[0;36m6\u001b[0m\u001b[0;34m,\u001b[0m\u001b[0;36m7\u001b[0m\u001b[0;34m,\u001b[0m\u001b[0;36m3\u001b[0m\u001b[0;34m]\u001b[0m\u001b[0;34m\u001b[0m\u001b[0m\n",
      "\u001b[0;31mTypeError\u001b[0m: list indices must be integers or slices, not tuple"
     ]
    }
   ],
   "source": [
    "X=[[12,7,3]\n",
    "  [4,5,6]\n",
    "  [7,8,9]]\n",
    "Y=[[5,8,1]\n",
    "  [6,7,3]\n",
    "  [4,5,9]]\n",
    "result=[[0,0,0]\n",
    "       [0,0,0]\n",
    "       [0,0,0]]\n",
    "for i in range(len(X)):\n",
    "    for j in range(len(X[0])):\n",
    "        result[i][j]=X[i][j]+Y[i][j]\n",
    "for r in result:\n",
    "    print (r)"
   ]
  },
  {
   "cell_type": "code",
   "execution_count": 6,
   "metadata": {},
   "outputs": [
    {
     "name": "stdout",
     "output_type": "stream",
     "text": [
      "5050\n"
     ]
    }
   ],
   "source": [
    "a=0\n",
    "for i in range(1,101):\n",
    "    a=a+i\n",
    "print (a)"
   ]
  },
  {
   "cell_type": "code",
   "execution_count": 7,
   "metadata": {},
   "outputs": [
    {
     "name": "stdout",
     "output_type": "stream",
     "text": [
      "5050\n"
     ]
    }
   ],
   "source": [
    "a=0\n",
    "i=1\n",
    "while i<=100:\n",
    "    a=a+i\n",
    "    i=i+1\n",
    "print (a)"
   ]
  },
  {
   "cell_type": "code",
   "execution_count": 11,
   "metadata": {},
   "outputs": [
    {
     "ename": "NameError",
     "evalue": "name '_name_' is not defined",
     "output_type": "error",
     "traceback": [
      "\u001b[0;31m---------------------------------------------------------------------------\u001b[0m",
      "\u001b[0;31mNameError\u001b[0m                                 Traceback (most recent call last)",
      "\u001b[0;32m<ipython-input-11-f7b0d082f74a>\u001b[0m in \u001b[0;36m<module>\u001b[0;34m()\u001b[0m\n\u001b[0;32m----> 1\u001b[0;31m \u001b[0;32mif\u001b[0m \u001b[0m_name_\u001b[0m \u001b[0;34m==\u001b[0m \u001b[0;34m'_main_'\u001b[0m\u001b[0;34m:\u001b[0m\u001b[0;34m\u001b[0m\u001b[0m\n\u001b[0m\u001b[1;32m      2\u001b[0m     \u001b[0;32mimport\u001b[0m \u001b[0mturtle\u001b[0m\u001b[0;34m\u001b[0m\u001b[0m\n\u001b[1;32m      3\u001b[0m     \u001b[0mturtle\u001b[0m\u001b[0;34m.\u001b[0m\u001b[0mtitle\u001b[0m\u001b[0;34m(\u001b[0m\u001b[0mcircle\u001b[0m\u001b[0;34m)\u001b[0m\u001b[0;34m\u001b[0m\u001b[0m\n\u001b[1;32m      4\u001b[0m     \u001b[0mturtle\u001b[0m\u001b[0;34m.\u001b[0m\u001b[0msetup\u001b[0m\u001b[0;34m(\u001b[0m\u001b[0;36m800\u001b[0m\u001b[0;34m,\u001b[0m\u001b[0;36m600\u001b[0m\u001b[0;34m,\u001b[0m\u001b[0;36m0\u001b[0m\u001b[0;34m,\u001b[0m\u001b[0;36m0\u001b[0m\u001b[0;34m)\u001b[0m\u001b[0;34m\u001b[0m\u001b[0m\n\u001b[1;32m      5\u001b[0m     \u001b[0mpen\u001b[0m\u001b[0;34m=\u001b[0m\u001b[0mturtle\u001b[0m\u001b[0;34m.\u001b[0m\u001b[0mTurtle\u001b[0m\u001b[0;34m(\u001b[0m\u001b[0;34m)\u001b[0m\u001b[0;34m\u001b[0m\u001b[0m\n",
      "\u001b[0;31mNameError\u001b[0m: name '_name_' is not defined"
     ]
    }
   ],
   "source": [
    "if _name_ == '_main_':\n",
    "    import turtle\n",
    "    turtle.title(circle)\n",
    "    turtle.setup(800,600,0,0)\n",
    "    pen=turtle.Turtle()\n",
    "    pen.color(yellow)\n",
    "    pen.width(5)\n",
    "    pen.shape(turtle)\n",
    "    pen.speed(1)\n",
    "    pen.circle(100)"
   ]
  },
  {
   "cell_type": "code",
   "execution_count": 7,
   "metadata": {},
   "outputs": [
    {
     "name": "stdout",
     "output_type": "stream",
     "text": [
      "5.187377517639621\n"
     ]
    }
   ],
   "source": [
    "s=0\n",
    "k=1\n",
    "M=100\n",
    "while k<=M:\n",
    "    s+=1/k\n",
    "    k=k+1\n",
    "print (s)"
   ]
  },
  {
   "cell_type": "code",
   "execution_count": 8,
   "metadata": {},
   "outputs": [
    {
     "name": "stdout",
     "output_type": "stream",
     "text": [
      "5.187377517639621\n"
     ]
    }
   ],
   "source": [
    "s=0\n",
    "k=1\n",
    "M=100\n",
    "for k in range(1,101):\n",
    "    s+=1/k\n",
    "    k=k+1\n",
    "print (s)"
   ]
  },
  {
   "cell_type": "code",
   "execution_count": 9,
   "metadata": {},
   "outputs": [
    {
     "name": "stdout",
     "output_type": "stream",
     "text": [
      "[[-20, -15, -10, -5, 0, 5, 10, 15, 20, 25, 30, 35, 40], [-4.0, 5.0, 14.0, 23.0, 32.0, 41.0, 50.0, 59.0, 68.0, 77.0, 86.0, 95.0, 104.0]]\n"
     ]
    }
   ],
   "source": [
    "Cdegrees=list(range(-20,41,5))  #-20,-15,...,35,40\n",
    "Fdegrees=[(9.0/5)*C+32 for C in Cdegrees]\n",
    "table=[Cdegrees, Fdegrees]\n",
    "print (table)"
   ]
  },
  {
   "cell_type": "code",
   "execution_count": 10,
   "metadata": {},
   "outputs": [
    {
     "name": "stdout",
     "output_type": "stream",
     "text": [
      "  12\n",
      "  16\n",
      "  11\n",
      "  12\n",
      "\n",
      "   9\n",
      "\n",
      "   6\n",
      "   9\n",
      "  11\n",
      "  14\n",
      "  17\n",
      "  15\n",
      "  14\n",
      "  20\n",
      "\n",
      "  12\n",
      "  16\n",
      "  11\n",
      "  12\n",
      "\n",
      "   9\n",
      "\n",
      "   6\n",
      "   9\n",
      "  11\n",
      "  14\n",
      "  17\n",
      "  15\n",
      "  14\n",
      "  20\n",
      "\n"
     ]
    }
   ],
   "source": [
    "scores=[]    \n",
    "scores.append([12,16,11,12])    #score of player no.0:\n",
    "scores.append([9])    #score of player no.1:   \n",
    "scores.append([6,9,11,14,17,15,14,20])    #score of player no.2:\n",
    "for p in range(len(scores)):  #len(scores)指scores这个list的长度，为3，range(3)就是[0,1,2]，分别指no.0对应的list,no.1对应的list\n",
    "    for g in range(len(scores[p])):\n",
    "        score=scores[p][g]  #p,g指的是元素的序号\n",
    "        print('%4d'%score)\n",
    "    print ()   #指打印一个空行\n",
    "for player in scores:\n",
    "    for game in player:\n",
    "        print('%4d'%game)\n",
    "    print ()"
   ]
  },
  {
   "cell_type": "code",
   "execution_count": 13,
   "metadata": {},
   "outputs": [
    {
     "name": "stdout",
     "output_type": "stream",
     "text": [
      "a\n"
     ]
    }
   ],
   "source": [
    "q=[['a','b','c'],['d','e','f'],['g','h']]\n",
    "print (q[0][0])  #q[0][0]指取出q中第一个元素中的第一个元素"
   ]
  },
  {
   "cell_type": "code",
   "execution_count": 12,
   "metadata": {},
   "outputs": [
    {
     "name": "stdout",
     "output_type": "stream",
     "text": [
      "['d', 'e', 'f']\n"
     ]
    }
   ],
   "source": [
    "q=[['a','b','c'],['d','e','f'],['g','h']]\n",
    "print (q[1])"
   ]
  },
  {
   "cell_type": "code",
   "execution_count": 14,
   "metadata": {},
   "outputs": [
    {
     "name": "stdout",
     "output_type": "stream",
     "text": [
      "h\n"
     ]
    }
   ],
   "source": [
    "q=[['a','b','c'],['d','e','f'],['g','h']]\n",
    "print (q[-1][-1])"
   ]
  },
  {
   "cell_type": "code",
   "execution_count": 15,
   "metadata": {},
   "outputs": [
    {
     "name": "stdout",
     "output_type": "stream",
     "text": [
      "d\n"
     ]
    }
   ],
   "source": [
    "q=[['a','b','c'],['d','e','f'],['g','h']]\n",
    "print (q[1][0])"
   ]
  },
  {
   "cell_type": "code",
   "execution_count": 16,
   "metadata": {},
   "outputs": [
    {
     "name": "stdout",
     "output_type": "stream",
     "text": [
      "a\n",
      "b\n",
      "c\n",
      "d\n",
      "e\n",
      "f\n",
      "g\n",
      "h\n"
     ]
    }
   ],
   "source": [
    "q=[['a','b','c'],['d','e','f'],['g','h']]\n",
    "for i in q:  #i的类型是一个数\n",
    "    for j in range(len(i)):\n",
    "        print (i[j])"
   ]
  },
  {
   "cell_type": "code",
   "execution_count": 18,
   "metadata": {},
   "outputs": [
    {
     "name": "stdout",
     "output_type": "stream",
     "text": [
      "[1, 2, 3]\n",
      "[1, 2]\n"
     ]
    }
   ],
   "source": [
    "a=[1,2]\n",
    "b=a[:]  #把a中所有的值都取出来，使a,b赋完值后相互独立\n",
    "b.append(3)\n",
    "print (b)\n",
    "print (a)"
   ]
  },
  {
   "cell_type": "code",
   "execution_count": 19,
   "metadata": {},
   "outputs": [
    {
     "name": "stdout",
     "output_type": "stream",
     "text": [
      "[1, 2, 3]\n",
      "[1, 2, 3]\n"
     ]
    }
   ],
   "source": [
    "a=[1,2]\n",
    "b=a\n",
    "b.append(3)\n",
    "print (b)\n",
    "print (a)"
   ]
  },
  {
   "cell_type": "code",
   "execution_count": 26,
   "metadata": {},
   "outputs": [
    {
     "name": "stdout",
     "output_type": "stream",
     "text": [
      "[1, 100, 10000, 1000000, 100000000]\n"
     ]
    }
   ],
   "source": [
    "q=[r**2 for r in [10**i for i in range(5)]]  #range(5)=[0,1,2,3,4]\n",
    "print (q)"
   ]
  },
  {
   "cell_type": "code",
   "execution_count": 28,
   "metadata": {},
   "outputs": [
    {
     "name": "stdout",
     "output_type": "stream",
     "text": [
      "[1, 100, 10000, 1000000, 100000000]\n"
     ]
    }
   ],
   "source": [
    "q=[]\n",
    "p=[]\n",
    "for i in range(5):\n",
    "    a=10**i\n",
    "    p.append(a)\n",
    "for r in p:\n",
    "    b=r**2\n",
    "    q.append(b)\n",
    "print (q)    "
   ]
  },
  {
   "cell_type": "code",
   "execution_count": 29,
   "metadata": {},
   "outputs": [
    {
     "name": "stdout",
     "output_type": "stream",
     "text": [
      "[1, 1, 100, 1, 100, 10000, 1, 100, 10000, 1000000, 1, 100, 10000, 1000000, 100000000]\n"
     ]
    }
   ],
   "source": [
    "q=[]\n",
    "p=[]\n",
    "for i in range(5):\n",
    "    a=10**i\n",
    "    p.append(a)\n",
    "    for r in p:  #应该与上一级for循环在同一级\n",
    "        b=r**2\n",
    "        q.append(b)\n",
    "print (q)    "
   ]
  },
  {
   "cell_type": "code",
   "execution_count": 30,
   "metadata": {},
   "outputs": [
    {
     "data": {
      "text/plain": [
       "True"
      ]
     },
     "execution_count": 30,
     "metadata": {},
     "output_type": "execute_result"
    }
   ],
   "source": [
    "False==0  #一般默认0为False,1为True;输出结果表明该逻辑判断式是正确的"
   ]
  },
  {
   "cell_type": "code",
   "execution_count": 31,
   "metadata": {},
   "outputs": [
    {
     "data": {
      "text/plain": [
       "True"
      ]
     },
     "execution_count": 31,
     "metadata": {},
     "output_type": "execute_result"
    }
   ],
   "source": [
    "True==1"
   ]
  },
  {
   "cell_type": "code",
   "execution_count": 32,
   "metadata": {},
   "outputs": [
    {
     "data": {
      "text/plain": [
       "False"
      ]
     },
     "execution_count": 32,
     "metadata": {},
     "output_type": "execute_result"
    }
   ],
   "source": [
    "True==0   #输出结果表明该逻辑判断式是错误的"
   ]
  },
  {
   "cell_type": "code",
   "execution_count": 33,
   "metadata": {},
   "outputs": [
    {
     "data": {
      "text/plain": [
       "True"
      ]
     },
     "execution_count": 33,
     "metadata": {},
     "output_type": "execute_result"
    }
   ],
   "source": [
    "True or False and False  #先运行and,再运行or"
   ]
  },
  {
   "cell_type": "code",
   "execution_count": 34,
   "metadata": {},
   "outputs": [
    {
     "data": {
      "text/plain": [
       "True"
      ]
     },
     "execution_count": 34,
     "metadata": {},
     "output_type": "execute_result"
    }
   ],
   "source": [
    "True or False"
   ]
  },
  {
   "cell_type": "code",
   "execution_count": 1,
   "metadata": {},
   "outputs": [
    {
     "name": "stdout",
     "output_type": "stream",
     "text": [
      "0 time sqrt and **2: 2.0000000000000000\n",
      "1 time sqrt and **2: 2.0000000000000004\n",
      "2 time sqrt and **2: 1.9999999999999996\n",
      "3 time sqrt and **2: 1.9999999999999996\n",
      "4 time sqrt and **2: 1.9999999999999964\n",
      "5 time sqrt and **2: 1.9999999999999964\n",
      "6 time sqrt and **2: 1.9999999999999964\n",
      "7 time sqrt and **2: 1.9999999999999714\n",
      "8 time sqrt and **2: 2.0000000000000235\n",
      "9 time sqrt and **2: 2.0000000000000235\n",
      "10 time sqrt and **2: 2.0000000000000235\n",
      "11 time sqrt and **2: 2.0000000000000235\n",
      "12 time sqrt and **2: 1.9999999999991336\n",
      "13 time sqrt and **2: 1.9999999999973292\n",
      "14 time sqrt and **2: 1.9999999999973292\n",
      "15 time sqrt and **2: 1.9999999999973292\n",
      "16 time sqrt and **2: 2.0000000000117746\n",
      "17 time sqrt and **2: 2.0000000000408580\n",
      "18 time sqrt and **2: 2.0000000000408580\n",
      "19 time sqrt and **2: 2.0000000001573586\n",
      "20 time sqrt and **2: 2.0000000001573586\n",
      "21 time sqrt and **2: 2.0000000001573586\n",
      "22 time sqrt and **2: 2.0000000010885857\n",
      "23 time sqrt and **2: 2.0000000029511749\n",
      "24 time sqrt and **2: 2.0000000066771721\n",
      "25 time sqrt and **2: 2.0000000066771721\n",
      "26 time sqrt and **2: 1.9999999917775542\n",
      "27 time sqrt and **2: 1.9999999917775542\n",
      "28 time sqrt and **2: 1.9999999917775542\n",
      "29 time sqrt and **2: 1.9999999917775542\n",
      "30 time sqrt and **2: 1.9999999917775542\n",
      "31 time sqrt and **2: 1.9999999917775542\n",
      "32 time sqrt and **2: 1.9999990380770896\n",
      "33 time sqrt and **2: 1.9999971307544144\n",
      "34 time sqrt and **2: 1.9999971307544144\n",
      "35 time sqrt and **2: 1.9999971307544144\n",
      "36 time sqrt and **2: 1.9999971307544144\n",
      "37 time sqrt and **2: 1.9999971307544144\n",
      "38 time sqrt and **2: 1.9999360966436217\n",
      "39 time sqrt and **2: 1.9999360966436217\n",
      "40 time sqrt and **2: 1.9999360966436217\n",
      "41 time sqrt and **2: 1.9994478907329654\n",
      "42 time sqrt and **2: 1.9984718365144798\n",
      "43 time sqrt and **2: 1.9965211562778555\n",
      "44 time sqrt and **2: 1.9965211562778555\n",
      "45 time sqrt and **2: 1.9887374575497223\n",
      "46 time sqrt and **2: 1.9887374575497223\n",
      "47 time sqrt and **2: 1.9887374575497223\n",
      "48 time sqrt and **2: 1.9887374575497223\n",
      "49 time sqrt and **2: 1.8682459487159784\n",
      "50 time sqrt and **2: 1.6487212645509468\n",
      "51 time sqrt and **2: 1.6487212645509468\n",
      "52 time sqrt and **2: 1.0000000000000000\n",
      "53 time sqrt and **2: 1.0000000000000000\n",
      "54 time sqrt and **2: 1.0000000000000000\n",
      "55 time sqrt and **2: 1.0000000000000000\n",
      "56 time sqrt and **2: 1.0000000000000000\n",
      "57 time sqrt and **2: 1.0000000000000000\n",
      "58 time sqrt and **2: 1.0000000000000000\n",
      "59 time sqrt and **2: 1.0000000000000000\n"
     ]
    }
   ],
   "source": [
    "from math import sqrt #测试一个语言的截断误差（round-off errors）,由于有些位数的数字会被舍掉，从而开方的次数过多时会导致出现很大误差。故一般计算时选用尽量多的小数位数，如用64位。\n",
    "for n in range(60):   #n=0,1,2,...,59.\n",
    "    r=2.0\n",
    "    for i in range(n): \n",
    "        r=sqrt(r)    #sqrt指开平方\n",
    "    for i in range(n):\n",
    "        r=r**2\n",
    "    print ('%d time sqrt and **2: %.16f' %(n,r)) #%.16f指取小数点后十六位"
   ]
  }
 ],
 "metadata": {
  "kernelspec": {
   "display_name": "Python 3",
   "language": "python",
   "name": "python3"
  },
  "language_info": {
   "codemirror_mode": {
    "name": "ipython",
    "version": 3
   },
   "file_extension": ".py",
   "mimetype": "text/x-python",
   "name": "python",
   "nbconvert_exporter": "python",
   "pygments_lexer": "ipython3",
   "version": "3.5.2"
  },
  "widgets": {
   "application/vnd.jupyter.widget-state+json": {
    "state": {},
    "version_major": 2,
    "version_minor": 0
   }
  }
 },
 "nbformat": 4,
 "nbformat_minor": 2
}
